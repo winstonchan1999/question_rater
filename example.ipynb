{
 "cells": [
  {
   "cell_type": "code",
   "execution_count": 1,
   "metadata": {},
   "outputs": [],
   "source": [
    "from QuestionRater import QuestionRater"
   ]
  },
  {
   "cell_type": "code",
   "execution_count": 2,
   "metadata": {},
   "outputs": [],
   "source": [
    "api_key = 'INSERT-API-KEY'\n",
    "\n",
    "QR = QuestionRater(key=api_key)"
   ]
  },
  {
   "cell_type": "code",
   "execution_count": 3,
   "metadata": {},
   "outputs": [
    {
     "name": "stdout",
     "output_type": "stream",
     "text": [
      "{'How do I use my phone to access my Model 3?': 3, 'What do I need to do to authenticate my phone as a key for my Model 3?': 3, 'Can I use any phone to access my Model 3?': 2, 'What is the process for tapping my key card against the Model 3 card reader?': 3, \"Is it necessary to keep my phone's Bluetooth on at all times to access my Model 3?\": 3, 'When should I secure cargo in the rear trunk?': 1, 'How do I open the door?': 2, 'How do I close the window?': 1, 'How do I get my car into a car wash?': 1, 'What is Sport steering mode?': 1}\n"
     ]
    }
   ],
   "source": [
    "## testing method get_rating()\n",
    "\n",
    "questions = [\n",
    "                    'How do I use my phone to access my Model 3?',\n",
    "                    'What do I need to do to authenticate my phone as a key for my Model 3?',\n",
    "                    'Can I use any phone to access my Model 3?',\n",
    "                    'What is the process for tapping my key card against the Model 3 card reader?',\n",
    "                    \"Is it necessary to keep my phone's Bluetooth on at all times to access my Model 3?\",\n",
    "                    'When should I secure cargo in the rear trunk?',\n",
    "                    'How do I open the door?',\n",
    "                    'How do I close the window?',\n",
    "                    'How do I get my car into a car wash?',                    \n",
    "                    'What is Sport steering mode?'\n",
    "                    ]\n",
    "\n",
    "passage = \"Before you can use a phone to access Model 3, follow these steps to authenticate it: Download the Tesla mobile app to your phone. Log into the Tesla mobile app using your Tesla Account user name and password. NOTE: You must remain logged in to your Tesla Account to use your phone to access Model 3. Ensure that your phone's Bluetooth settings are turned on. You must have your phone's Bluetooth setting turned on AND you must also ensure that Bluetooth is turned on within your phone's global settings for the Tesla mobile app. For example, on your phone, navigate to Settings, choose the Tesla mobile app, and ensure the Bluetooth setting is enabled. NOTE: Model 3 communicates with your phone using Bluetooth. To authenticate your phone or use it as a key, the phone must be powered on and Bluetooth must be enabled. Keep in mind that your phone must have enough battery power to run Bluetooth and that many phones disable Bluetooth when the battery is low. Ensure that Allow Mobile Access (Controls > Safety & Security > Allow Mobile Access) is enabled. In the Tesla mobile app, touch PHONE KEY then touch START to search for your Model 3. When your Model 3 is detected, the mobile app asks you to tap your key card.Tap the key card against the Model 3 card reader on the door pillar or center console (see Key Card on page 9).\"\n",
    "\n",
    "title = 'Accessing Tesla Model 3'\n",
    "\n",
    "QA_dict = {\n",
    "    'company' : 'Tesla',\n",
    "    'questions' : questions,\n",
    "    'passage' : passage,\n",
    "    'title' : title\n",
    "}\n",
    "\n",
    "rating = QR.get_rating(QA_dict, 'relatedness')\n",
    "\n",
    "print(rating)"
   ]
  },
  {
   "cell_type": "code",
   "execution_count": 4,
   "metadata": {},
   "outputs": [
    {
     "name": "stdout",
     "output_type": "stream",
     "text": [
      "{'How do I use my phone to access my Model 3?': 3, 'What do I need to do to authenticate my phone as a key for my Model 3?': 3, 'Can I use any phone to access my Model 3?': 1, 'What is the process for tapping my key card against the Model 3 card reader?': 3, \"Is it necessary to keep my phone's Bluetooth on at all times to access my Model 3?\": 3, 'When should I secure cargo in the rear trunk?': 1, 'How do I open the door?': 3, 'How do I close the window?': 3, 'How do I get my car into a car wash?': 3, 'What is Sport steering mode?': 1}\n"
     ]
    }
   ],
   "source": [
    "## testing method get_rating()\n",
    "\n",
    "questions = [\n",
    "                    'How do I use my phone to access my Model 3?',\n",
    "                    'What do I need to do to authenticate my phone as a key for my Model 3?',\n",
    "                    'Can I use any phone to access my Model 3?',\n",
    "                    'What is the process for tapping my key card against the Model 3 card reader?',\n",
    "                    \"Is it necessary to keep my phone's Bluetooth on at all times to access my Model 3?\",\n",
    "                    'When should I secure cargo in the rear trunk?',\n",
    "                    'How do I open the door?',\n",
    "                    'How do I close the window?',\n",
    "                    'How do I get my car into a car wash?',                    \n",
    "                    'What is Sport steering mode?'\n",
    "                    ]\n",
    "\n",
    "passage = \"Before you can use a phone to access Model 3, follow these steps to authenticate it: Download the Tesla mobile app to your phone. Log into the Tesla mobile app using your Tesla Account user name and password. NOTE: You must remain logged in to your Tesla Account to use your phone to access Model 3. Ensure that your phone's Bluetooth settings are turned on. You must have your phone's Bluetooth setting turned on AND you must also ensure that Bluetooth is turned on within your phone's global settings for the Tesla mobile app. For example, on your phone, navigate to Settings, choose the Tesla mobile app, and ensure the Bluetooth setting is enabled. NOTE: Model 3 communicates with your phone using Bluetooth. To authenticate your phone or use it as a key, the phone must be powered on and Bluetooth must be enabled. Keep in mind that your phone must have enough battery power to run Bluetooth and that many phones disable Bluetooth when the battery is low. Ensure that Allow Mobile Access (Controls > Safety & Security > Allow Mobile Access) is enabled. In the Tesla mobile app, touch PHONE KEY then touch START to search for your Model 3. When your Model 3 is detected, the mobile app asks you to tap your key card.Tap the key card against the Model 3 card reader on the door pillar or center console (see Key Card on page 9).\"\n",
    "\n",
    "title = 'Accessing Tesla Model 3'\n",
    "\n",
    "QA_dict = {\n",
    "    'company' : 'Tesla',\n",
    "    'questions' : questions,\n",
    "    'passage' : passage,\n",
    "    'title' : title\n",
    "}\n",
    "\n",
    "rating = QR.get_rating(QA_dict, 'conciseness')\n",
    "\n",
    "print(rating)"
   ]
  },
  {
   "cell_type": "code",
   "execution_count": 5,
   "metadata": {},
   "outputs": [
    {
     "name": "stdout",
     "output_type": "stream",
     "text": [
      "3\n"
     ]
    }
   ],
   "source": [
    "## testing method get_rating()\n",
    "\n",
    "questions = [\n",
    "                    'How do I use my phone to access my Model 3?',\n",
    "                    'What do I need to do to authenticate my phone as a key for my Model 3?',\n",
    "                    'Can I use any phone to access my Model 3?',\n",
    "                    'What is the process for tapping my key card against the Model 3 card reader?',\n",
    "                    \"Is it necessary to keep my phone's Bluetooth on at all times to access my Model 3?\",\n",
    "                    'When should I secure cargo in the rear trunk?',\n",
    "                    'How do I open the door?',\n",
    "                    'How do I close the window?',\n",
    "                    'How do I get my car into a car wash?',                    \n",
    "                    'What is Sport steering mode?'\n",
    "                    ]\n",
    "\n",
    "passage = \"Before you can use a phone to access Model 3, follow these steps to authenticate it: Download the Tesla mobile app to your phone. Log into the Tesla mobile app using your Tesla Account user name and password. NOTE: You must remain logged in to your Tesla Account to use your phone to access Model 3. Ensure that your phone's Bluetooth settings are turned on. You must have your phone's Bluetooth setting turned on AND you must also ensure that Bluetooth is turned on within your phone's global settings for the Tesla mobile app. For example, on your phone, navigate to Settings, choose the Tesla mobile app, and ensure the Bluetooth setting is enabled. NOTE: Model 3 communicates with your phone using Bluetooth. To authenticate your phone or use it as a key, the phone must be powered on and Bluetooth must be enabled. Keep in mind that your phone must have enough battery power to run Bluetooth and that many phones disable Bluetooth when the battery is low. Ensure that Allow Mobile Access (Controls > Safety & Security > Allow Mobile Access) is enabled. In the Tesla mobile app, touch PHONE KEY then touch START to search for your Model 3. When your Model 3 is detected, the mobile app asks you to tap your key card.Tap the key card against the Model 3 card reader on the door pillar or center console (see Key Card on page 9).\"\n",
    "\n",
    "title = 'Accessing Tesla Model 3'\n",
    "\n",
    "QA_dict = {\n",
    "    'company' : 'Tesla',\n",
    "    'questions' : questions,\n",
    "    'passage' : passage,\n",
    "    'title' : title\n",
    "}\n",
    "\n",
    "rating = QR.get_qset_rating(QA_dict, 'completeness')\n",
    "\n",
    "print(rating)"
   ]
  },
  {
   "cell_type": "code",
   "execution_count": 6,
   "metadata": {},
   "outputs": [
    {
     "name": "stdout",
     "output_type": "stream",
     "text": [
      "{'How do I use my phone to access my Model 3?': [3, 3], 'What do I need to do to authenticate my phone as a key for my Model 3?': [3, 3], 'Can I use any phone to access my Model 3?': [2, 3], 'What is the process for tapping my key card against the Model 3 card reader?': [2, 3], \"Is it necessary to keep my phone's Bluetooth on at all times to access my Model 3?\": [2, 3], 'When should I secure cargo in the rear trunk?': [1, 3], 'How do I open the door?': [1, 3], 'How do I close the window?': [1, 3], 'How do I get my car into a car wash?': [1, 3], 'What is Sport steering mode?': [1, 3]}\n",
      "3\n"
     ]
    }
   ],
   "source": [
    "## testing method get_all_ratings()\n",
    "\n",
    "questions = [\n",
    "                    'How do I use my phone to access my Model 3?',\n",
    "                    'What do I need to do to authenticate my phone as a key for my Model 3?',\n",
    "                    'Can I use any phone to access my Model 3?',\n",
    "                    'What is the process for tapping my key card against the Model 3 card reader?',\n",
    "                    \"Is it necessary to keep my phone's Bluetooth on at all times to access my Model 3?\",\n",
    "                    'When should I secure cargo in the rear trunk?',\n",
    "                    'How do I open the door?',\n",
    "                    'How do I close the window?',\n",
    "                    'How do I get my car into a car wash?',                    \n",
    "                    'What is Sport steering mode?'\n",
    "                    ]\n",
    "\n",
    "passage = \"Before you can use a phone to access Model 3, follow these steps to authenticate it: Download the Tesla mobile app to your phone. Log into the Tesla mobile app using your Tesla Account user name and password. NOTE: You must remain logged in to your Tesla Account to use your phone to access Model 3. Ensure that your phone's Bluetooth settings are turned on. You must have your phone's Bluetooth setting turned on AND you must also ensure that Bluetooth is turned on within your phone's global settings for the Tesla mobile app. For example, on your phone, navigate to Settings, choose the Tesla mobile app, and ensure the Bluetooth setting is enabled. NOTE: Model 3 communicates with your phone using Bluetooth. To authenticate your phone or use it as a key, the phone must be powered on and Bluetooth must be enabled. Keep in mind that your phone must have enough battery power to run Bluetooth and that many phones disable Bluetooth when the battery is low. Ensure that Allow Mobile Access (Controls > Safety & Security > Allow Mobile Access) is enabled. In the Tesla mobile app, touch PHONE KEY then touch START to search for your Model 3. When your Model 3 is detected, the mobile app asks you to tap your key card.Tap the key card against the Model 3 card reader on the door pillar or center console (see Key Card on page 9).\"\n",
    "\n",
    "title = 'Accessing Tesla Model 3'\n",
    "\n",
    "QA_dict = {\n",
    "    'company' : 'Tesla',\n",
    "    'questions' : questions,\n",
    "    'passage' : passage,\n",
    "    'title' : title\n",
    "}\n",
    "\n",
    "rating_dict, c_rating = QR.get_all_ratings(QA_dict)\n",
    "\n",
    "print(rating_dict)\n",
    "print(c_rating)"
   ]
  },
  {
   "cell_type": "code",
   "execution_count": 7,
   "metadata": {},
   "outputs": [
    {
     "name": "stdout",
     "output_type": "stream",
     "text": [
      "Rating: 3\n"
     ]
    }
   ],
   "source": [
    "## testing method get_rating_with_custom_prompt()\n",
    "\n",
    "QR = QuestionRater(key=api_key)\n",
    "\n",
    "criteria_dict = {\n",
    "    'criteria' : 'relatedness',\n",
    "    'description' : 'relatedness refers to the degree of relevance between the question and the answer.'\n",
    "}\n",
    "\n",
    "QA_dict = {\n",
    "    'question' : 'What is 2 + 2?',\n",
    "    'answer' : '2 + 2 equals 4.'\n",
    "}\n",
    "\n",
    "custom_prompt = f\"\"\"\n",
    "            You will be provided with a question and an answer to the question. \\ \n",
    "            Your task is to rate the question's {criteria_dict['criteria']} with respect to the answer. \\ \n",
    "            Note that {criteria_dict['description']} \\ \n",
    "            Rate the question on a scale from 1 to 3, \\ \n",
    "            with 1 meaning \"bad\", 2 meaning \"so so\", 3 meaning \"good\". \\ \n",
    "\n",
    "            Question: {QA_dict['question']} \\ \n",
    "\n",
    "            Answer: {QA_dict['answer']} \\ \n",
    "            \n",
    "            Please return only the digit.\n",
    "            \n",
    "            \"\"\"\n",
    "\n",
    "print(f'Rating: {QR.get_rating_with_custom_prompt(custom_prompt)}')"
   ]
  },
  {
   "cell_type": "code",
   "execution_count": null,
   "metadata": {},
   "outputs": [],
   "source": []
  }
 ],
 "metadata": {
  "kernelspec": {
   "display_name": "eecs6322-a3",
   "language": "python",
   "name": "python3"
  },
  "language_info": {
   "codemirror_mode": {
    "name": "ipython",
    "version": 3
   },
   "file_extension": ".py",
   "mimetype": "text/x-python",
   "name": "python",
   "nbconvert_exporter": "python",
   "pygments_lexer": "ipython3",
   "version": "3.10.9"
  },
  "orig_nbformat": 4
 },
 "nbformat": 4,
 "nbformat_minor": 2
}
